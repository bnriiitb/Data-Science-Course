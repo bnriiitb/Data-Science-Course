{
 "cells": [
  {
   "cell_type": "markdown",
   "metadata": {},
   "source": [
    "# Hypothesis Testing"
   ]
  },
  {
   "cell_type": "markdown",
   "metadata": {},
   "source": [
    "* A hypothesis test **evaluates two mutually exclusive statements about a population to determine which statement is best supported by the sample data.** \n",
    "* These two statements are called the **null hypothesis** and the **alternative hypothesis**.\n",
    "* Hypothesis tests are **not 100% accurate** because they use a random sample to draw conclusions about entire populations. \n",
    "* When you perform a hypothesis test, there are two types of errors related to drawing an incorrect conclusion.\n",
    "    * **Type I error**: The rejects a null hypothesis that is true. You can think of this as a **false positive**.\n",
    "    * **Type II error**: The test fails to reject a null hypothesis that is false. You can think of this as a **false negative**."
   ]
  },
  {
   "cell_type": "markdown",
   "metadata": {},
   "source": [
    "## Common Statistical Tests\n",
    "> ### Correlational: These tests look for an association between variables\n",
    "> * **Pearson correlation:** Tests for the strength of the association between two continuous variables\n",
    "> * **Spearman correlation:** Tests for the strength of the association between two ordinal variables (does not rely on the assumption of normal distributed data)\n",
    "> * **Chi-square:** Tests for the strength of the association between two categorical variables\n",
    "----\n",
    "> ### Comparison of Means: look for the difference between the means of variables\n",
    "> * **Paired T-test:** Tests for difference between two related variables\n",
    "> * **Independent T-test:** Tests for difference between two independent variables\n",
    "> * **ANOVA:** Tests the difference between group means after any other variance in the outcome variable is accounted for\n",
    "---- \n",
    "> ### Regression: assess if change in one variable predicts change in another variable\n",
    "> * **Simple regression:** Tests how change in the predictor variable predicts the level of change in the outcome variable\n",
    "> * **Multiple regression:** Tests how change in the combination of two or more predictor variables predict the level of change in the outcome variable\n",
    "----\n",
    "> ### Non-parametric: are used when the data does not meet assumptions required for parametric tests\n",
    "> * **Wilcoxon rank-sum test:** Tests for difference between two independent variables - takes into account magnitude and direction of difference\n",
    "> * **Wilcoxon sign-rank test:** Tests for difference between two related variables - takes into account magnitude and direction of difference\n",
    "> * **Sign test:** Tests if two related variables are different – ignores magnitude of change, only takes into account direction"
   ]
  },
  {
   "cell_type": "markdown",
   "metadata": {},
   "source": [
    "## References:\n",
    "* https://statisticsbyjim.com/glossary/hypothesis-tests/\n",
    "* https://cyfar.org/sites/default/files/Common%20Statistical%20Tests.pdf"
   ]
  }
 ],
 "metadata": {
  "kernelspec": {
   "display_name": "Python 3",
   "language": "python",
   "name": "python3"
  },
  "language_info": {
   "codemirror_mode": {
    "name": "ipython",
    "version": 3
   },
   "file_extension": ".py",
   "mimetype": "text/x-python",
   "name": "python",
   "nbconvert_exporter": "python",
   "pygments_lexer": "ipython3",
   "version": "3.6.10"
  }
 },
 "nbformat": 4,
 "nbformat_minor": 4
}
