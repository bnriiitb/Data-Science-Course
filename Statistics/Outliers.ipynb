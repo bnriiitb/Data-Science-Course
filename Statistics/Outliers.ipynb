{
 "cells": [
  {
   "cell_type": "markdown",
   "metadata": {},
   "source": [
    "# Outliers"
   ]
  },
  {
   "cell_type": "markdown",
   "metadata": {},
   "source": [
    "## Table of Contents\n",
    "* What are outliers?\n",
    "* What is the impact of outliers?\n",
    "* Why Do We Care About Anomalies?\n",
    "* What are the different types of outliers?\n",
    "* How does outliers get into data?\n",
    "* What are the common reasons that lead to the presence of outliers in the data?\n",
    "* What are the different techniques to detect outliers?"
   ]
  },
  {
   "cell_type": "markdown",
   "metadata": {},
   "source": [
    "## What are outliers?"
   ]
  },
  {
   "cell_type": "markdown",
   "metadata": {},
   "source": [
    "* Outliers are the extreme data points that are far from other data points in the dataset.\n",
    "* In statistics, outliers are data points that don’t belong to a certain population. \n",
    "* It is an abnormal observation that lies far away from other values. \n",
    "* An outlier is an observation that diverges from well-structured data."
   ]
  },
  {
   "cell_type": "markdown",
   "metadata": {},
   "source": [
    "## What is the impact of outliers?"
   ]
  },
  {
   "cell_type": "markdown",
   "metadata": {},
   "source": [
    "* Outliers affect the statistical analysis and may result in wrong conclusions."
   ]
  },
  {
   "cell_type": "markdown",
   "metadata": {},
   "source": [
    "## Why Do We Care About Anomalies?"
   ]
  },
  {
   "cell_type": "markdown",
   "metadata": {},
   "source": [
    "* The reason why we need to detect anomalies is that when preparing datasets for machine learning models.\n",
    "* It is really important to detect all the outliers and either get rid of them or analyze them to know why you had them there in the first place."
   ]
  },
  {
   "cell_type": "markdown",
   "metadata": {},
   "source": [
    "## What are the different types of outliers?"
   ]
  },
  {
   "cell_type": "markdown",
   "metadata": {},
   "source": [
    "Basically there are two types of outlier are there:\n",
    "* Univariate\n",
    "* Multivariate"
   ]
  },
  {
   "cell_type": "markdown",
   "metadata": {},
   "source": [
    "## How does outliers get into data?"
   ]
  },
  {
   "cell_type": "markdown",
   "metadata": {},
   "source": [
    "* Outliers can come in different flavours, depending on the environment: point outliers, contextual outliers, or collective outliers"
   ]
  },
  {
   "cell_type": "markdown",
   "metadata": {},
   "source": [
    "## What are the common reasons that lead to the presence of outliers in the data?"
   ]
  },
  {
   "cell_type": "markdown",
   "metadata": {},
   "source": [
    "* Data entry errors (human errors)\n",
    "* Measurement errors (instrument errors)\n",
    "* Experimental errors (data extraction or experiment planning/executing errors)\n",
    "* Intentional (dummy outliers made to test detection methods)\n",
    "* Data processing errors (data manipulation or data set unintended mutations)\n",
    "* Sampling errors (extracting or mixing data from wrong or various sources)\n",
    "* Natural (not an error, novelties in data)"
   ]
  },
  {
   "cell_type": "markdown",
   "metadata": {},
   "source": [
    "## What are the different techniques to detect outliers?"
   ]
  },
  {
   "cell_type": "markdown",
   "metadata": {},
   "source": [
    "* Standard Deviation\n",
    "* Data Visualization - Box Plots\n",
    "* DBScan Clustering\n",
    "* Isolation Forest\n",
    "* Z Scores\n",
    "* Hypothesis Tests"
   ]
  },
  {
   "cell_type": "markdown",
   "metadata": {},
   "source": [
    "### Standard Deviation\n",
    "\n",
    "* In statistics, If a data distribution is approximately normal then \n",
    "    * About 68% of the data values lie within one standard deviation of the mean.\n",
    "    * About 95% are within two standard deviations of the mean.\n",
    "    * About 99.7% lie within three standard deviations of the mean."
   ]
  },
  {
   "cell_type": "markdown",
   "metadata": {},
   "source": [
    "<img src='images/std.png'>"
   ]
  },
  {
   "cell_type": "markdown",
   "metadata": {},
   "source": [
    "#### Therefore, if you have any data point that is more than 3 times the standard deviation, then those points are very likely to be anomalous or outliers."
   ]
  },
  {
   "cell_type": "markdown",
   "metadata": {},
   "source": [
    "#### Example:"
   ]
  },
  {
   "cell_type": "code",
   "execution_count": 11,
   "metadata": {},
   "outputs": [],
   "source": [
    "import numpy as np\n",
    "import matplotlib.pyplot as plt\n",
    "# multiply and add by random numbers to get some real values\n",
    "data = np.random.randn(50000)  * 20 + 20\n",
    "\n",
    "def find_anomalies(random_data):\n",
    "    anomalies = []\n",
    "    # Set upper and lower limit to 3 standard deviation\n",
    "    data_std = np.std(random_data)\n",
    "    data_mean = np.mean(random_data)\n",
    "    anomaly_cut_off = data_std * 3\n",
    "    \n",
    "    lower_limit  = data_mean - anomaly_cut_off \n",
    "    upper_limit = data_mean + anomaly_cut_off\n",
    "    print('lower_limit :: ',lower_limit,'upper_limit :: ',upper_limit)\n",
    "    # Generate outliers\n",
    "    for data_point in random_data:\n",
    "        if data_point > upper_limit or data_point < lower_limit:\n",
    "            anomalies.append(data_point)\n",
    "    return anomalies"
   ]
  },
  {
   "cell_type": "code",
   "execution_count": 16,
   "metadata": {},
   "outputs": [
    {
     "name": "stdout",
     "output_type": "stream",
     "text": [
      "lower_limit ::  -40.1163963531252 upper_limit ::  80.17255260668134\n"
     ]
    },
    {
     "data": {
      "text/plain": [
       "[87.43134842186382, -41.64511514545226, 99.81373229732499]"
      ]
     },
     "execution_count": 16,
     "metadata": {},
     "output_type": "execute_result"
    }
   ],
   "source": [
    "outliers = find_anomalies(data)\n",
    "outliers[:3]"
   ]
  },
  {
   "cell_type": "code",
   "execution_count": 23,
   "metadata": {},
   "outputs": [
    {
     "data": {
      "image/png": "[encoded data removed]",
      "text/plain": [
       "<Figure size 432x288 with 1 Axes>"
      ]
     },
     "metadata": {
      "needs_background": "light"
     },
     "output_type": "display_data"
    }
   ],
   "source": [
    "plt.hist(data,bins=500)\n",
    "plt.show()"
   ]
  },
  {
   "cell_type": "markdown",
   "metadata": {},
   "source": [
    "## Using Z-scores to Detect Outliers"
   ]
  },
  {
   "cell_type": "markdown",
   "metadata": {},
   "source": [
    "* Z-scores can quantify the unusualness of an observation **when your data follow the normal distribution.** \n",
    "> #### Z-scores are the number of standard deviations above and below the mean that each value falls. \n",
    "* For example, a Z-score of 2 indicates that an observation is two standard deviations above the average while a Z-score of -2 signifies it is two standard deviations below the mean. \n",
    "\n",
    "> #### A Z-score of zero represents a value that equals the mean.\n",
    "\n",
    "* To calculate the Z-score for an observation, take the raw measurement, subtract the mean, and divide by the standard deviation. \n",
    "* Mathematically, the formula for that process is the following:\n",
    "\n",
    "$$\n",
    "Z=({X-{\\mu}})/{\\sigma}\n",
    "$$\n",
    "\n",
    "* The further away an observation’s Z-score is from zero, the more unusual it is. \n",
    "* A standard cut-off value for finding outliers are Z-scores of +/-3 or further from zero. \n",
    "* The probability distribution below displays the distribution of Z-scores in a standard normal distribution. Z-scores beyond +/- 3 are so extreme you can barely see the shading under the curve.\n",
    "\n",
    "<img src='images/Z-scores.png'>\n",
    "\n",
    "\n",
    "> ### If your data don’t follow the normal distribution, identifying the Outilers with Z-Socres might not be accurate."
   ]
  },
  {
   "cell_type": "markdown",
   "metadata": {},
   "source": [
    "---------\n",
    "## Data Visualization - Box Plots"
   ]
  },
  {
   "cell_type": "markdown",
   "metadata": {},
   "source": [
    "<img src='images/box_plots.png'>"
   ]
  },
  {
   "cell_type": "markdown",
   "metadata": {},
   "source": [
    "* Box plots are a graphical depiction of numerical data through their quantiles. \n",
    "* It is a very simple but effective way to visualize outliers. \n",
    "* Think about the lower and upper whiskers as the boundaries of the data distribution. \n",
    "* Any data points that show above or below the whiskers, can be considered outliers or anomalous"
   ]
  },
  {
   "cell_type": "code",
   "execution_count": 25,
   "metadata": {},
   "outputs": [],
   "source": [
    "import seaborn as sns\n",
    "from matplotlib import pyplot as plt"
   ]
  },
  {
   "cell_type": "code",
   "execution_count": 26,
   "metadata": {},
   "outputs": [
    {
     "data": {
      "text/plain": [
       "<matplotlib.axes._subplots.AxesSubplot at 0x7ffe94422eb8>"
      ]
     },
     "execution_count": 26,
     "metadata": {},
     "output_type": "execute_result"
    },
    {
     "data": {
      "image/png": "[encoded data removed]",
      "text/plain": [
       "<Figure size 432x288 with 1 Axes>"
      ]
     },
     "metadata": {
      "needs_background": "light"
     },
     "output_type": "display_data"
    }
   ],
   "source": [
    "sns.boxplot(data)"
   ]
  },
  {
   "cell_type": "markdown",
   "metadata": {},
   "source": [
    "## Boxplot Anatomy:\n",
    "* The concept of the Interquartile Range (IQR) is used to build the boxplot graphs. \n",
    "> #### IQR is a concept in statistics that is used to measure the statistical dispersion and data variability by dividing the dataset into quartiles.\n",
    "* In simple words, any dataset or any set of observations is divided into four defined intervals based upon the values of the data and how they compare to the entire dataset.\n",
    "* A quartile is what divides the data into three points and four intervals.\n",
    "<img src='images/iqr.png'>\n",
    "\n",
    "## IQR Anatomy:\n",
    "* Interquartile Range (IQR) is important because it is used to define the outliers. \n",
    "* It is the difference between the third quartile and the first quartile (IQR = Q3 -Q1). \n",
    "* Outliers in this case are defined as the observations that are\n",
    "> #### below (Q1 − 1.5x IQR) or boxplot lower whisker or above (Q3 + 1.5x IQR) or boxplot upper whisker.\n",
    "<img src='images/iqr1.png'>"
   ]
  },
  {
   "cell_type": "markdown",
   "metadata": {},
   "source": [
    "## Calculating the Outlier Fences Using the Interquartile Range\n",
    "* You can use the interquartile range (IQR), several quartile values, and an adjustment factor to calculate boundaries for what constitutes minor and major outliers. \n",
    "* Minor and major denote the unusualness of the outlier relative to the overall distribution of values. \n",
    "* Major outliers are more extreme. Analysts also refer to these categorizations as mild and extreme outliers.\n",
    "* The IQR is the middle 50% of the dataset.\n",
    "* It’s the range of values between the third quartile and the first quartile (Q3 – Q1). \n",
    "* We can take the IQR, Q1, and Q3 values to calculate the following outlier fences for our dataset: \n",
    "    * lower outer -> Q1 - 3IQR\n",
    "    * lower inner -> Q1 - 1.5IQR\n",
    "    * upper inner -> Q3+1.5IQR\n",
    "    * upper outer -> Q3+3IQR\n",
    "* These fences determine whether data points are outliers and whether they are mild or extreme.\n",
    "* The values that fall inside the two inner fences are not outliers."
   ]
  },
  {
   "cell_type": "markdown",
   "metadata": {},
   "source": [
    "## DBScan Clustering:\n",
    "* DBScan is a clustering algorithm that’s used cluster data into groups. \n",
    "> #### It is also used as a **density-based anomaly detection method with either single or multi-dimensional data.** \n",
    "* Other clustering algorithms such as k-means and hierarchal clustering can also be used to detect outliers. \n",
    "* In this instance, I will show you an example of using DBScan but before we start, let’s cover some important concepts. \n",
    "### DBScan has three important concepts:\n",
    "* **Core Points**: In order to understand the concept of the core points, we need to visit some of the hyperparameters used to define DBScan job. \n",
    "> * First hyperparameter is **min_samples**. \n",
    ">    * This is simply the minimum number of core points needed in order to form a cluster. \n",
    "> * Second important Hyper Parameter is **eps**. \n",
    ">    * eps is the maximum distance between two samples for them to be considered as in the same cluster.\n",
    "\n",
    "* **Border Points** are in the same cluster as core points but much further away from the centre of the cluster.\n",
    "<img src='images/db_scan.png'>\n",
    "* Everything else is called **Noise Points**, those are data points that do not belong to any cluster. \n",
    "* They can be anomalous or non-anomalous and they need further investigation"
   ]
  },
  {
   "cell_type": "markdown",
   "metadata": {},
   "source": [
    "## Example"
   ]
  },
  {
   "cell_type": "code",
   "execution_count": 28,
   "metadata": {},
   "outputs": [
    {
     "data": {
      "text/plain": [
       "96"
      ]
     },
     "execution_count": 28,
     "metadata": {},
     "output_type": "execute_result"
    }
   ],
   "source": [
    "from sklearn.cluster import DBSCAN\n",
    "random_data = np.random.randn(50000,2)  * 20 + 20\n",
    "\n",
    "outlier_detection = DBSCAN(min_samples = 2, eps = 3)\n",
    "clusters = outlier_detection.fit_predict(random_data)\n",
    "list(clusters).count(-1)"
   ]
  },
  {
   "cell_type": "markdown",
   "metadata": {},
   "source": [
    "* The output of the above code is 94. This is the total number of noisy points. \n",
    "* sklearn labels the noisy points as (-1). \n",
    "> #### The downside with this method is that the higher the dimension, the less accurate it becomes. \n",
    "* You also need to make a few assumptions like estimating the right value for eps which can be challenging."
   ]
  },
  {
   "cell_type": "markdown",
   "metadata": {},
   "source": [
    "## Isolation Forest\n",
    "\n",
    "* Isolation Forest is an unsupervised learning algorithm that belongs to the ensemble decision trees family. \n",
    "> #### This approach is different from all previous methods. All the previous ones were trying to find the normal region of the data then identifies anything outside of this defined region to be an outlier or anomalous.\n",
    "> #### This method works differently. It explicitly isolates anomalies instead of profiling and constructing normal points and regions by assigning a score to each data point. \n",
    "* It takes advantage of the fact that anomalies are the minority data points and that they have attribute-values that are very different from those of normal instances. \n",
    "> #### This algorithm works great with very high dimensional datasets and it proved to be a very effective way of detecting anomalies.\n",
    "You can find the full details on how this algorithms works are covered in this paper.\n",
    "https://cs.nju.edu.cn/zhouzh/zhouzh.files/publication/icdm08b.pdf"
   ]
  },
  {
   "cell_type": "markdown",
   "metadata": {},
   "source": [
    "### Example:"
   ]
  },
  {
   "cell_type": "code",
   "execution_count": 29,
   "metadata": {},
   "outputs": [
    {
     "name": "stderr",
     "output_type": "stream",
     "text": [
      "/opt/anaconda3/envs/py36/lib/python3.6/site-packages/sklearn/ensemble/_iforest.py:248: FutureWarning: 'behaviour' is deprecated in 0.22 and will be removed in 0.24. You should not pass or set this parameter.\n",
      "  FutureWarning\n"
     ]
    },
    {
     "data": {
      "text/plain": [
       "array([-1,  1, -1, ...,  1,  1,  1])"
      ]
     },
     "execution_count": 29,
     "metadata": {},
     "output_type": "execute_result"
    }
   ],
   "source": [
    "from sklearn.ensemble import IsolationForest\n",
    "import numpy as np\n",
    "np.random.seed(1)\n",
    "random_data = np.random.randn(50000,2)  * 20 + 20\n",
    "\n",
    "clf = IsolationForest(behaviour = 'new', max_samples=100, random_state = 1, contamination= 'auto')\n",
    "preds = clf.fit_predict(random_data)\n",
    "preds"
   ]
  },
  {
   "cell_type": "markdown",
   "metadata": {},
   "source": [
    "* This code will output the predictions for each data point in an array. \n",
    "* If the result is -1, it means that this specific data point is an outlier. \n",
    "* If the result is 1, then it means that the data point is not an outlier."
   ]
  },
  {
   "cell_type": "markdown",
   "metadata": {},
   "source": [
    "## Robust Random Cut Forest - AWS Algorithm\n",
    "* http://proceedings.mlr.press/v48/guha16.pdf"
   ]
  },
  {
   "cell_type": "markdown",
   "metadata": {},
   "source": [
    "## Guidelines for Removing and Handling Outliers in Data\n",
    "* If the outlier in question is:\n",
    "    * A measurement error or data entry error, correct the error if possible. If you can’t fix it, remove that observation because you know it’s incorrect.\n",
    "    * Not a part of the population you are studying (i.e., unusual properties or conditions), you can legitimately remove the outlier.\n",
    "    * A natural part of the population you are studying, you should not remove it.\n"
   ]
  },
  {
   "cell_type": "code",
   "execution_count": null,
   "metadata": {},
   "outputs": [],
   "source": []
  },
  {
   "cell_type": "markdown",
   "metadata": {},
   "source": [
    "### References:\n",
    "* https://statisticsbyjim.com/basics/outliers/\n",
    "* https://towardsdatascience.com/a-brief-overview-of-outlier-detection-techniques-1e0b2c19e561\n",
    "* https://machinelearningmastery.com/how-to-use-statistics-to-identify-outliers-in-data/\n",
    "* https://towardsdatascience.com/ways-to-detect-and-remove-the-outliers-404d16608dba\n",
    "* https://towardsdatascience.com/5-ways-to-detect-outliers-that-every-data-scientist-should-know-python-code-70a54335a623\n",
    "* https://www.kdnuggets.com/2018/12/four-techniques-outlier-detection.html"
   ]
  }
 ],
 "metadata": {
  "kernelspec": {
   "display_name": "Python 3",
   "language": "python",
   "name": "python3"
  },
  "language_info": {
   "codemirror_mode": {
    "name": "ipython",
    "version": 3
   },
   "file_extension": ".py",
   "mimetype": "text/x-python",
   "name": "python",
   "nbconvert_exporter": "python",
   "pygments_lexer": "ipython3",
   "version": "3.6.10"
  }
 },
 "nbformat": 4,
 "nbformat_minor": 4
}
